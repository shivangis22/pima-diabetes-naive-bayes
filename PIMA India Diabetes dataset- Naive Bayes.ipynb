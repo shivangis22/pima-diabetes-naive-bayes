{
 "cells": [
  {
   "cell_type": "code",
   "execution_count": 1,
   "id": "7d230da6",
   "metadata": {},
   "outputs": [],
   "source": [
    "import csv\n",
    "import math\n",
    "import random\n"
   ]
  },
  {
   "cell_type": "code",
   "execution_count": 2,
   "id": "0b12ddf0",
   "metadata": {},
   "outputs": [],
   "source": [
    "import pandas as pd\n",
    "def loadCSV(filename):\n",
    "    lines= csv.reader(open(r\"pima-indians-diabetes.csv\"))\n",
    "    dataset= list(lines)\n",
    "    for i in range (len(dataset)):\n",
    "    \n",
    "        dataset[i]= [float(x) for x in dataset[i]]\n",
    "    return dataset"
   ]
  },
  {
   "cell_type": "code",
   "execution_count": 3,
   "id": "90d5841a",
   "metadata": {},
   "outputs": [],
   "source": [
    "def splitData(dataset, splitratio):\n",
    "    trainSize= int(len(dataset)* splitratio)\n",
    "    trainSet= []\n",
    "    copy= list(dataset)\n",
    "    while len(trainSet)< trainSize:\n",
    "        index= random.randrange(len(copy))\n",
    "        trainSet.append(copy.pop(index))\n",
    "    return [trainSet, copy]"
   ]
  },
  {
   "cell_type": "code",
   "execution_count": 4,
   "id": "3f93d1b2",
   "metadata": {},
   "outputs": [],
   "source": [
    "def separateByClass(dataset):\n",
    "    separated= {}\n",
    "    for i in range(len(dataset)):\n",
    "        vector= dataset[i]\n",
    "        if( vector[-1] not in separated):\n",
    "            separated[vector[-1]]= []\n",
    "        separated[vector[-1]].append(vector)\n",
    "    return separated"
   ]
  },
  {
   "cell_type": "code",
   "execution_count": 5,
   "id": "af1c6f1d",
   "metadata": {},
   "outputs": [],
   "source": [
    "def mean(numbers):\n",
    "    return sum(numbers)/float(len(numbers))"
   ]
  },
  {
   "cell_type": "code",
   "execution_count": 6,
   "id": "d9d83553",
   "metadata": {},
   "outputs": [],
   "source": [
    "def stdev(numbers):\n",
    "    avg= mean(numbers)\n",
    "    variance= sum([pow(x- avg, 2) for x in numbers])/ float(len(numbers)-1)\n",
    "    return math.sqrt(variance)\n",
    "    "
   ]
  },
  {
   "cell_type": "code",
   "execution_count": 7,
   "id": "0142e2e2",
   "metadata": {},
   "outputs": [],
   "source": [
    "def summarize(dataset):\n",
    "    summaries= [(mean(attribute), stdev(attribute)) for attribute in zip(*dataset)]\n",
    "    del summaries[-1]\n",
    "    return summaries"
   ]
  },
  {
   "cell_type": "code",
   "execution_count": 8,
   "id": "e3096dc8",
   "metadata": {},
   "outputs": [],
   "source": [
    "def summarizeByClass(dataset):\n",
    "    separated= separateByClass(dataset)\n",
    "    summaries={}\n",
    "    for classValue, instance in separated.items():\n",
    "        summaries[classValue]= summarize(instance)\n",
    "    return summaries"
   ]
  },
  {
   "cell_type": "code",
   "execution_count": 9,
   "id": "47faf6ba",
   "metadata": {},
   "outputs": [],
   "source": [
    "def calculateProbablity(x, mean, stdev):\n",
    "    exponent= math.exp(-(math.pow(x-mean, 2)/ (2* math.pow(stdev, 2))))\n",
    "    return(1/ (math.sqrt(2*math.pi)*stdev))*exponent"
   ]
  },
  {
   "cell_type": "code",
   "execution_count": 10,
   "id": "219f6701",
   "metadata": {},
   "outputs": [],
   "source": [
    "def claculateClassProbabilities(summaries, inputVector):\n",
    "    probablities= {}\n",
    "    for classValue, classSummaries in summaries.items():\n",
    "        probablities[classValue]=1\n",
    "        for i in range(len(classSummaries)):\n",
    "            mean, stdev= classSummaries[i]\n",
    "            x = inputVector[i]\n",
    "            probablities[classValue]*= calculateProbablity(x, mean, stdev)\n",
    "        return probablities"
   ]
  },
  {
   "cell_type": "code",
   "execution_count": 11,
   "id": "ddf122a5",
   "metadata": {},
   "outputs": [],
   "source": [
    "def predict(summaries, inputVector):\n",
    "    probablities= claculateClassProbabilities(summaries, inputVector)\n",
    "    bestLabel, bestProb= None, -1\n",
    "    for classValue, probablity in probablities.items():\n",
    "        if bestLabel is None or probablity> bestProb:\n",
    "            bestProb= probablity\n",
    "            bestLabel= classValue\n",
    "    return bestLabel"
   ]
  },
  {
   "cell_type": "code",
   "execution_count": 12,
   "id": "05b70148",
   "metadata": {},
   "outputs": [],
   "source": [
    "def getPredictions(summaries, testSet):\n",
    "    predictions= []\n",
    "    for i in range(len(testSet)):\n",
    "        result= predict(summaries, testSet[i])\n",
    "        predictions.append(result)\n",
    "    return predictions"
   ]
  },
  {
   "cell_type": "code",
   "execution_count": 13,
   "id": "d1e4659d",
   "metadata": {},
   "outputs": [],
   "source": [
    "def getAccuracy(testSet, predictions):\n",
    "    correct= 0\n",
    "    for x in range(len(testSet)):\n",
    "        if testSet[x][-1]== predictions[x]:\n",
    "            correct+=1\n",
    "    return(correct/ float(len(testSet)))*100.0"
   ]
  },
  {
   "cell_type": "code",
   "execution_count": 14,
   "id": "23fd0997",
   "metadata": {},
   "outputs": [
    {
     "name": "stdout",
     "output_type": "stream",
     "text": [
      "Split 768 rows into train= 537 and test= 231 rows\n",
      "Accuracy: 63.20346320346321\n"
     ]
    }
   ],
   "source": [
    "# filename= r(\"C:\\Users\\Shivangi\\Downloads\\diabetes.csv\")\n",
    "splitRatio=0.7\n",
    "dataset= loadCSV(r\"pima-indians-diabetes.csv\")\n",
    "trainingSet, testSet= splitData(dataset, splitRatio)\n",
    "print(\"Split {0} rows into train= {1} and test= {2} rows\".format(len(dataset),len(trainingSet),len(testSet)))\n",
    "summaries= summarizeByClass(trainingSet)\n",
    "predictions= getPredictions(summaries, testSet)\n",
    "accuracy= getAccuracy(testSet, predictions)\n",
    "print(\"Accuracy: \"+ str(accuracy))"
   ]
  },
  {
   "cell_type": "code",
   "execution_count": null,
   "id": "c235f738",
   "metadata": {},
   "outputs": [],
   "source": []
  }
 ],
 "metadata": {
  "interpreter": {
   "hash": "773126b3fab986ced1c355e7d67511472bb7d47c0c35f39e7a9d0bf3578052b9"
  },
  "kernelspec": {
   "display_name": "Python 3.9.7",
   "language": "python",
   "name": "python3"
  },
  "language_info": {
   "codemirror_mode": {
    "name": "ipython",
    "version": 3
   },
   "file_extension": ".py",
   "mimetype": "text/x-python",
   "name": "python",
   "nbconvert_exporter": "python",
   "pygments_lexer": "ipython3",
   "version": "3.9.7"
  }
 },
 "nbformat": 4,
 "nbformat_minor": 5
}
